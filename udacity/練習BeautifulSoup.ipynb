{
 "cells": [
  {
   "cell_type": "code",
   "execution_count": 3,
   "metadata": {},
   "outputs": [],
   "source": [
    "# import zipfile\n",
    "# with zipfile.ZipFile('rt-html.zip', 'r') as myzip:\n",
    "#     myzip.extractall()"
   ]
  },
  {
   "cell_type": "code",
   "execution_count": 4,
   "metadata": {},
   "outputs": [],
   "source": [
    "from bs4 import BeautifulSoup as bs\n",
    "import os\n",
    "import pandas as pd"
   ]
  },
  {
   "cell_type": "code",
   "execution_count": 39,
   "metadata": {},
   "outputs": [
    {
     "name": "stdout",
     "output_type": "stream",
     "text": [
      "138789\n"
     ]
    }
   ],
   "source": [
    "with open(os.path.join('rt_html', '12_years_a_slave.html')) as file:\n",
    "    soup = bs(file)\n",
    "    title = soup.find('title').contents[0][:-len('- Rotten Tomatoes')].strip()\n",
    "    audience_score = soup.find('div', class_='audience-score')\\\n",
    "                         .find('span', class_='superPageFontColor')\\\n",
    "                         .contents[0]\\\n",
    "                         .replace('%','')\n",
    "    num_audience_ratings = soup.find('div', class_='audience-info')\\\n",
    "                                .find_all('div')[1]\\\n",
    "                                .contents[2]\\\n",
    "                                .strip().replace(',', '')\n"
   ]
  },
  {
   "cell_type": "code",
   "execution_count": 44,
   "metadata": {},
   "outputs": [],
   "source": [
    "# List of dictionaries to build file by file and later convert to a DataFrame\n",
    "df_list = []\n",
    "folder = 'rt_html'\n",
    "for movie_html in os.listdir(folder):\n",
    "    with open(os.path.join(folder, movie_html)) as file:\n",
    "        # Note: a correct implementation may take ~15 seconds to run\n",
    "        soup = bs(file, 'html.parser')\n",
    "        title = soup.find('title').contents[0][:-len('- Rotten Tomatoes')].strip()\n",
    "        audience_score = soup.find('div', class_='audience-score')\\\n",
    "                                .find('span', class_='superPageFontColor')\\\n",
    "                                .contents[0]\\\n",
    "                                .replace('%','')\n",
    "        num_audience_ratings = soup.find('div', class_='audience-info')\\\n",
    "                                    .find_all('div')[1]\\\n",
    "                                    .contents[2]\\\n",
    "                                    .strip().replace(',', '')\n",
    "        \n",
    "        # Append to list of dictionaries\n",
    "        df_list.append({'title': title,\n",
    "                        'audience_score': int(audience_score),\n",
    "                        'number_of_audience_ratings': int(num_audience_ratings)})\n",
    "df = pd.DataFrame(df_list, columns = ['title', 'audience_score', 'number_of_audience_ratings'])"
   ]
  },
  {
   "cell_type": "code",
   "execution_count": 42,
   "metadata": {},
   "outputs": [
    {
     "name": "stdout",
     "output_type": "stream",
     "text": [
      "<class 'pandas.core.frame.DataFrame'>\n",
      "RangeIndex: 100 entries, 0 to 99\n",
      "Data columns (total 3 columns):\n",
      "title                         100 non-null object\n",
      "audience_score                100 non-null int64\n",
      "number_of_audience_ratings    100 non-null int64\n",
      "dtypes: int64(2), object(1)\n",
      "memory usage: 2.4+ KB\n"
     ]
    }
   ],
   "source": [
    "df.info()"
   ]
  },
  {
   "cell_type": "markdown",
   "metadata": {},
   "source": [
    "### 測試"
   ]
  },
  {
   "cell_type": "code",
   "execution_count": 45,
   "metadata": {},
   "outputs": [],
   "source": [
    "df_solution = pd.read_pickle('df_solution.pkl')\n",
    "df.sort_values('title', inplace = True)\n",
    "df.reset_index(inplace = True, drop = True)\n",
    "df_solution.sort_values('title', inplace = True)\n",
    "df_solution.reset_index(inplace = True, drop = True)\n",
    "pd.testing.assert_frame_equal(df, df_solution)"
   ]
  },
  {
   "cell_type": "code",
   "execution_count": null,
   "metadata": {},
   "outputs": [],
   "source": []
  }
 ],
 "metadata": {
  "kernelspec": {
   "display_name": "Python 3",
   "language": "python",
   "name": "python3"
  },
  "language_info": {
   "codemirror_mode": {
    "name": "ipython",
    "version": 3
   },
   "file_extension": ".py",
   "mimetype": "text/x-python",
   "name": "python",
   "nbconvert_exporter": "python",
   "pygments_lexer": "ipython3",
   "version": "3.7.2"
  }
 },
 "nbformat": 4,
 "nbformat_minor": 2
}
